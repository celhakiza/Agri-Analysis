{
 "cells": [
  {
   "cell_type": "code",
   "execution_count": 52,
   "id": "204093c2",
   "metadata": {},
   "outputs": [],
   "source": [
    "#import libraries\n",
    "import pandas as pd\n",
    "import matplotlib.pyplot as plt\n",
    "from scipy import stats\n",
    "from tabulate import tabulate\n",
    "from statsmodels.stats.multicomp import pairwise_tukeyhsd\n",
    "from scipy.stats import pearsonr"
   ]
  },
  {
   "cell_type": "code",
   "execution_count": 57,
   "id": "d1ad8ab1",
   "metadata": {},
   "outputs": [],
   "source": [
    "#reading the excel dataset\n",
    "df = pd.read_excel('./data/Data on diet_NEW_clean.xlsx')"
   ]
  },
  {
   "cell_type": "code",
   "execution_count": 58,
   "id": "9c758963",
   "metadata": {},
   "outputs": [
    {
     "data": {
      "text/html": [
       "<div>\n",
       "<style scoped>\n",
       "    .dataframe tbody tr th:only-of-type {\n",
       "        vertical-align: middle;\n",
       "    }\n",
       "\n",
       "    .dataframe tbody tr th {\n",
       "        vertical-align: top;\n",
       "    }\n",
       "\n",
       "    .dataframe thead th {\n",
       "        text-align: right;\n",
       "    }\n",
       "</style>\n",
       "<table border=\"1\" class=\"dataframe\">\n",
       "  <thead>\n",
       "    <tr style=\"text-align: right;\">\n",
       "      <th></th>\n",
       "      <th>Experiments</th>\n",
       "      <th>Diets</th>\n",
       "      <th>replication</th>\n",
       "      <th>Nber of eggs</th>\n",
       "      <th>number_larvae</th>\n",
       "      <th>nbr_of_weight_larvae</th>\n",
       "      <th>avg_weight_repl_per_10_larvae</th>\n",
       "      <th>avg_length_per_replication</th>\n",
       "      <th>nbr_of_moths</th>\n",
       "      <th>avg_nbr_eggs_per_4_moths</th>\n",
       "    </tr>\n",
       "  </thead>\n",
       "  <tbody>\n",
       "    <tr>\n",
       "      <th>0</th>\n",
       "      <td>Experiment1</td>\n",
       "      <td>Normal diet (ND)</td>\n",
       "      <td>Rep 1</td>\n",
       "      <td>23</td>\n",
       "      <td>9</td>\n",
       "      <td>9</td>\n",
       "      <td>0.733333</td>\n",
       "      <td>2.400000</td>\n",
       "      <td>8</td>\n",
       "      <td>1118.5</td>\n",
       "    </tr>\n",
       "    <tr>\n",
       "      <th>1</th>\n",
       "      <td>Experiment1</td>\n",
       "      <td>Normal diet (ND)</td>\n",
       "      <td>Rep 2</td>\n",
       "      <td>22</td>\n",
       "      <td>15</td>\n",
       "      <td>11</td>\n",
       "      <td>2.054545</td>\n",
       "      <td>2.100000</td>\n",
       "      <td>18</td>\n",
       "      <td>NaN</td>\n",
       "    </tr>\n",
       "    <tr>\n",
       "      <th>2</th>\n",
       "      <td>Experiment1</td>\n",
       "      <td>Normal diet (ND)</td>\n",
       "      <td>Rep 3</td>\n",
       "      <td>22</td>\n",
       "      <td>10</td>\n",
       "      <td>10</td>\n",
       "      <td>0.750000</td>\n",
       "      <td>0.000000</td>\n",
       "      <td>8</td>\n",
       "      <td>NaN</td>\n",
       "    </tr>\n",
       "    <tr>\n",
       "      <th>3</th>\n",
       "      <td>Experiment1</td>\n",
       "      <td>Normal diet (ND)</td>\n",
       "      <td>Rep 4</td>\n",
       "      <td>25</td>\n",
       "      <td>21</td>\n",
       "      <td>11</td>\n",
       "      <td>2.436364</td>\n",
       "      <td>2.700000</td>\n",
       "      <td>10</td>\n",
       "      <td>NaN</td>\n",
       "    </tr>\n",
       "    <tr>\n",
       "      <th>4</th>\n",
       "      <td>Experiment1</td>\n",
       "      <td>BM</td>\n",
       "      <td>Rep 1</td>\n",
       "      <td>21</td>\n",
       "      <td>10</td>\n",
       "      <td>10</td>\n",
       "      <td>2.190000</td>\n",
       "      <td>2.900000</td>\n",
       "      <td>18</td>\n",
       "      <td>835.5</td>\n",
       "    </tr>\n",
       "    <tr>\n",
       "      <th>...</th>\n",
       "      <td>...</td>\n",
       "      <td>...</td>\n",
       "      <td>...</td>\n",
       "      <td>...</td>\n",
       "      <td>...</td>\n",
       "      <td>...</td>\n",
       "      <td>...</td>\n",
       "      <td>...</td>\n",
       "      <td>...</td>\n",
       "      <td>...</td>\n",
       "    </tr>\n",
       "    <tr>\n",
       "      <th>91</th>\n",
       "      <td>Experiment 4</td>\n",
       "      <td>HBW</td>\n",
       "      <td>Rep 4</td>\n",
       "      <td>22</td>\n",
       "      <td>22</td>\n",
       "      <td>22</td>\n",
       "      <td>1.990909</td>\n",
       "      <td>2.358333</td>\n",
       "      <td>10</td>\n",
       "      <td>NaN</td>\n",
       "    </tr>\n",
       "    <tr>\n",
       "      <th>92</th>\n",
       "      <td>Experiment 4</td>\n",
       "      <td>NBW</td>\n",
       "      <td>Rep 1</td>\n",
       "      <td>24</td>\n",
       "      <td>21</td>\n",
       "      <td>21</td>\n",
       "      <td>1.219048</td>\n",
       "      <td>1.930769</td>\n",
       "      <td>3</td>\n",
       "      <td>1362.0</td>\n",
       "    </tr>\n",
       "    <tr>\n",
       "      <th>93</th>\n",
       "      <td>Experiment 4</td>\n",
       "      <td>NBW</td>\n",
       "      <td>Rep 2</td>\n",
       "      <td>22</td>\n",
       "      <td>5</td>\n",
       "      <td>5</td>\n",
       "      <td>1.180000</td>\n",
       "      <td>1.925000</td>\n",
       "      <td>1</td>\n",
       "      <td>NaN</td>\n",
       "    </tr>\n",
       "    <tr>\n",
       "      <th>94</th>\n",
       "      <td>Experiment 4</td>\n",
       "      <td>NBW</td>\n",
       "      <td>Rep 3</td>\n",
       "      <td>24</td>\n",
       "      <td>21</td>\n",
       "      <td>21</td>\n",
       "      <td>1.133333</td>\n",
       "      <td>2.036364</td>\n",
       "      <td>3</td>\n",
       "      <td>NaN</td>\n",
       "    </tr>\n",
       "    <tr>\n",
       "      <th>95</th>\n",
       "      <td>Experiment 4</td>\n",
       "      <td>NBW</td>\n",
       "      <td>Rep 4</td>\n",
       "      <td>21</td>\n",
       "      <td>16</td>\n",
       "      <td>16</td>\n",
       "      <td>1.125000</td>\n",
       "      <td>1.846667</td>\n",
       "      <td>2</td>\n",
       "      <td>NaN</td>\n",
       "    </tr>\n",
       "  </tbody>\n",
       "</table>\n",
       "<p>96 rows × 10 columns</p>\n",
       "</div>"
      ],
      "text/plain": [
       "     Experiments             Diets replication  Nber of eggs  number_larvae  \\\n",
       "0    Experiment1  Normal diet (ND)       Rep 1            23              9   \n",
       "1    Experiment1  Normal diet (ND)       Rep 2            22             15   \n",
       "2    Experiment1  Normal diet (ND)       Rep 3            22             10   \n",
       "3    Experiment1  Normal diet (ND)       Rep 4            25             21   \n",
       "4    Experiment1                BM       Rep 1            21             10   \n",
       "..           ...               ...         ...           ...            ...   \n",
       "91  Experiment 4               HBW       Rep 4            22             22   \n",
       "92  Experiment 4               NBW       Rep 1            24             21   \n",
       "93  Experiment 4               NBW       Rep 2            22              5   \n",
       "94  Experiment 4               NBW       Rep 3            24             21   \n",
       "95  Experiment 4               NBW       Rep 4            21             16   \n",
       "\n",
       "    nbr_of_weight_larvae  avg_weight_repl_per_10_larvae  \\\n",
       "0                      9                       0.733333   \n",
       "1                     11                       2.054545   \n",
       "2                     10                       0.750000   \n",
       "3                     11                       2.436364   \n",
       "4                     10                       2.190000   \n",
       "..                   ...                            ...   \n",
       "91                    22                       1.990909   \n",
       "92                    21                       1.219048   \n",
       "93                     5                       1.180000   \n",
       "94                    21                       1.133333   \n",
       "95                    16                       1.125000   \n",
       "\n",
       "    avg_length_per_replication  nbr_of_moths  avg_nbr_eggs_per_4_moths  \n",
       "0                     2.400000             8                    1118.5  \n",
       "1                     2.100000            18                       NaN  \n",
       "2                     0.000000             8                       NaN  \n",
       "3                     2.700000            10                       NaN  \n",
       "4                     2.900000            18                     835.5  \n",
       "..                         ...           ...                       ...  \n",
       "91                    2.358333            10                       NaN  \n",
       "92                    1.930769             3                    1362.0  \n",
       "93                    1.925000             1                       NaN  \n",
       "94                    2.036364             3                       NaN  \n",
       "95                    1.846667             2                       NaN  \n",
       "\n",
       "[96 rows x 10 columns]"
      ]
     },
     "execution_count": 58,
     "metadata": {},
     "output_type": "execute_result"
    }
   ],
   "source": [
    "df"
   ]
  },
  {
   "cell_type": "code",
   "execution_count": 59,
   "id": "6e51a3ae",
   "metadata": {},
   "outputs": [
    {
     "data": {
      "text/plain": [
       "Index(['Experiments', 'Diets', 'replication', 'Nber of eggs', 'number_larvae',\n",
       "       'nbr_of_weight_larvae', 'avg_weight_repl_per_10_larvae',\n",
       "       'avg_length_per_replication', 'nbr_of_moths',\n",
       "       'avg_nbr_eggs_per_4_moths'],\n",
       "      dtype='object')"
      ]
     },
     "execution_count": 59,
     "metadata": {},
     "output_type": "execute_result"
    }
   ],
   "source": [
    "df.columns"
   ]
  },
  {
   "cell_type": "markdown",
   "id": "cfba48b2",
   "metadata": {},
   "source": [
    "### Diet efficients\n",
    "to measure Diet efficient, we used number of larvae and the multiplication of larvae in our dataset\n",
    "\n",
    "#### 1. Number of larvae produced"
   ]
  },
  {
   "cell_type": "code",
   "execution_count": 60,
   "id": "9b111f84",
   "metadata": {},
   "outputs": [
    {
     "data": {
      "text/html": [
       "<div>\n",
       "<style scoped>\n",
       "    .dataframe tbody tr th:only-of-type {\n",
       "        vertical-align: middle;\n",
       "    }\n",
       "\n",
       "    .dataframe tbody tr th {\n",
       "        vertical-align: top;\n",
       "    }\n",
       "\n",
       "    .dataframe thead th {\n",
       "        text-align: right;\n",
       "    }\n",
       "</style>\n",
       "<table border=\"1\" class=\"dataframe\">\n",
       "  <thead>\n",
       "    <tr style=\"text-align: right;\">\n",
       "      <th></th>\n",
       "      <th>Diets</th>\n",
       "      <th>number_larvae</th>\n",
       "    </tr>\n",
       "  </thead>\n",
       "  <tbody>\n",
       "    <tr>\n",
       "      <th>0</th>\n",
       "      <td>BM</td>\n",
       "      <td>304</td>\n",
       "    </tr>\n",
       "    <tr>\n",
       "      <th>1</th>\n",
       "      <td>GL</td>\n",
       "      <td>336</td>\n",
       "    </tr>\n",
       "    <tr>\n",
       "      <th>2</th>\n",
       "      <td>HBW</td>\n",
       "      <td>292</td>\n",
       "    </tr>\n",
       "    <tr>\n",
       "      <th>3</th>\n",
       "      <td>NBW</td>\n",
       "      <td>239</td>\n",
       "    </tr>\n",
       "    <tr>\n",
       "      <th>4</th>\n",
       "      <td>Normal diet (ND)</td>\n",
       "      <td>142</td>\n",
       "    </tr>\n",
       "    <tr>\n",
       "      <th>5</th>\n",
       "      <td>RM</td>\n",
       "      <td>274</td>\n",
       "    </tr>\n",
       "  </tbody>\n",
       "</table>\n",
       "</div>"
      ],
      "text/plain": [
       "              Diets  number_larvae\n",
       "0                BM            304\n",
       "1                GL            336\n",
       "2               HBW            292\n",
       "3               NBW            239\n",
       "4  Normal diet (ND)            142\n",
       "5                RM            274"
      ]
     },
     "execution_count": 60,
     "metadata": {},
     "output_type": "execute_result"
    }
   ],
   "source": [
    "#number of larvae\n",
    "df_eff = df.groupby('Diets')['number_larvae'].sum().reset_index()\n",
    "df_eff"
   ]
  },
  {
   "cell_type": "code",
   "execution_count": 61,
   "id": "afcf7e0c",
   "metadata": {},
   "outputs": [
    {
     "data": {
      "image/png": "[encoded data removed]",
      "text/plain": [
       "<Figure size 864x360 with 1 Axes>"
      ]
     },
     "metadata": {
      "needs_background": "light"
     },
     "output_type": "display_data"
    }
   ],
   "source": [
    "#bar chart displaying the results\n",
    "fig = plt.figure(figsize=(12,5))\n",
    "bars = plt.bar(df_eff['Diets'], df_eff['number_larvae'],color='skyblue')\n",
    "plt.xlabel('Diets')\n",
    "plt.ylabel('number_larvae')\n",
    "plt.title('number of larvaes produced per each diet type')\n",
    "\n",
    "# Annotate bars with the percentage values\n",
    "for bar in bars:\n",
    "    height = bar.get_height()\n",
    "    plt.text(\n",
    "        bar.get_x() + bar.get_width() / 2.0,  # x coordinate of the text\n",
    "        height,  # y coordinate of the text\n",
    "        f'{height:.0f}',  # text\n",
    "        ha='center',  # horizontal alignment\n",
    "        va='bottom'  # vertical alignment\n",
    "    )\n",
    "plt.savefig('diets.png')\n",
    "plt.show()"
   ]
  },
  {
   "cell_type": "markdown",
   "id": "b8a6916d",
   "metadata": {},
   "source": [
    "**Perform Analysis of Variance**  "
   ]
  },
  {
   "cell_type": "code",
   "execution_count": 62,
   "id": "2fed8dff",
   "metadata": {},
   "outputs": [
    {
     "name": "stdout",
     "output_type": "stream",
     "text": [
      "F-statistic: 7.554080727233219\n",
      "p-value: 5.8199767762960226e-06\n"
     ]
    }
   ],
   "source": [
    "groups = df.groupby('Diets')['number_larvae'].apply(list)\n",
    "\n",
    "# Perform ANOVA\n",
    "f_stat, p_value = stats.f_oneway(*groups)\n",
    "print('F-statistic:', f_stat)\n",
    "print('p-value:', p_value)"
   ]
  },
  {
   "cell_type": "markdown",
   "id": "f589f54b",
   "metadata": {},
   "source": [
    "#### 2. Multiplication of larvae"
   ]
  },
  {
   "cell_type": "code",
   "execution_count": 63,
   "id": "29d60f64",
   "metadata": {},
   "outputs": [],
   "source": [
    "df_multiplication = df.groupby('Diets')['avg_nbr_eggs_per_4_moths'].mean().reset_index()"
   ]
  },
  {
   "cell_type": "code",
   "execution_count": 64,
   "id": "e76d3aa9",
   "metadata": {},
   "outputs": [
    {
     "data": {
      "text/html": [
       "<div>\n",
       "<style scoped>\n",
       "    .dataframe tbody tr th:only-of-type {\n",
       "        vertical-align: middle;\n",
       "    }\n",
       "\n",
       "    .dataframe tbody tr th {\n",
       "        vertical-align: top;\n",
       "    }\n",
       "\n",
       "    .dataframe thead th {\n",
       "        text-align: right;\n",
       "    }\n",
       "</style>\n",
       "<table border=\"1\" class=\"dataframe\">\n",
       "  <thead>\n",
       "    <tr style=\"text-align: right;\">\n",
       "      <th></th>\n",
       "      <th>Diets</th>\n",
       "      <th>avg_nbr_eggs_per_4_moths</th>\n",
       "    </tr>\n",
       "  </thead>\n",
       "  <tbody>\n",
       "    <tr>\n",
       "      <th>0</th>\n",
       "      <td>BM</td>\n",
       "      <td>1397.250</td>\n",
       "    </tr>\n",
       "    <tr>\n",
       "      <th>1</th>\n",
       "      <td>GL</td>\n",
       "      <td>1139.125</td>\n",
       "    </tr>\n",
       "    <tr>\n",
       "      <th>2</th>\n",
       "      <td>HBW</td>\n",
       "      <td>1093.625</td>\n",
       "    </tr>\n",
       "    <tr>\n",
       "      <th>3</th>\n",
       "      <td>NBW</td>\n",
       "      <td>812.250</td>\n",
       "    </tr>\n",
       "    <tr>\n",
       "      <th>4</th>\n",
       "      <td>Normal diet (ND)</td>\n",
       "      <td>1190.000</td>\n",
       "    </tr>\n",
       "    <tr>\n",
       "      <th>5</th>\n",
       "      <td>RM</td>\n",
       "      <td>1763.000</td>\n",
       "    </tr>\n",
       "  </tbody>\n",
       "</table>\n",
       "</div>"
      ],
      "text/plain": [
       "              Diets  avg_nbr_eggs_per_4_moths\n",
       "0                BM                  1397.250\n",
       "1                GL                  1139.125\n",
       "2               HBW                  1093.625\n",
       "3               NBW                   812.250\n",
       "4  Normal diet (ND)                  1190.000\n",
       "5                RM                  1763.000"
      ]
     },
     "execution_count": 64,
     "metadata": {},
     "output_type": "execute_result"
    }
   ],
   "source": [
    "df_multiplication"
   ]
  },
  {
   "cell_type": "code",
   "execution_count": 65,
   "id": "75f358e2",
   "metadata": {},
   "outputs": [
    {
     "data": {
      "image/png": "[encoded data removed]",
      "text/plain": [
       "<Figure size 864x360 with 1 Axes>"
      ]
     },
     "metadata": {
      "needs_background": "light"
     },
     "output_type": "display_data"
    }
   ],
   "source": [
    "#bar chart displaying the results\n",
    "fig = plt.figure(figsize=(12,5))\n",
    "bars = plt.bar(df_multiplication['Diets'], df_multiplication['avg_nbr_eggs_per_4_moths'],color='skyblue')\n",
    "plt.xlabel('Diets')\n",
    "plt.ylabel('average number of eggs')\n",
    "plt.title('average number of eggs per 4 moths produced per each diet type')\n",
    "\n",
    "# Annotate bars with the percentage values\n",
    "for bar in bars:\n",
    "    height = bar.get_height()\n",
    "    plt.text(\n",
    "        bar.get_x() + bar.get_width() / 2.0,  # x coordinate of the text\n",
    "        height,  # y coordinate of the text\n",
    "        f'{height:.0f}',  # text\n",
    "        ha='center',  # horizontal alignment\n",
    "        va='bottom'  # vertical alignment\n",
    "    )\n",
    "plt.savefig('eggs_multi.png')\n",
    "plt.show()"
   ]
  },
  {
   "cell_type": "code",
   "execution_count": 66,
   "id": "c50c437e",
   "metadata": {
    "scrolled": true
   },
   "outputs": [
    {
     "name": "stdout",
     "output_type": "stream",
     "text": [
      "F-statistic: 1.2189158665644562\n",
      "p-value: 0.3404263057484863\n"
     ]
    }
   ],
   "source": [
    "df1 = df.dropna(subset=['avg_nbr_eggs_per_4_moths'])\n",
    "groups1 = df1.groupby('Diets')['avg_nbr_eggs_per_4_moths'].apply(list)\n",
    "\n",
    "# Perform ANOVA\n",
    "f_stat, p_value = stats.f_oneway(*groups1)\n",
    "print('F-statistic:', f_stat)\n",
    "print('p-value:', p_value)"
   ]
  },
  {
   "cell_type": "markdown",
   "id": "c7dcbbf1",
   "metadata": {},
   "source": [
    "### Growth and development\n",
    "\n",
    "#### 1. Weight\n",
    "\n",
    "For growth and development, we consider the weights and length"
   ]
  },
  {
   "cell_type": "code",
   "execution_count": 67,
   "id": "9fccdf84",
   "metadata": {},
   "outputs": [
    {
     "data": {
      "text/html": [
       "<div>\n",
       "<style scoped>\n",
       "    .dataframe tbody tr th:only-of-type {\n",
       "        vertical-align: middle;\n",
       "    }\n",
       "\n",
       "    .dataframe tbody tr th {\n",
       "        vertical-align: top;\n",
       "    }\n",
       "\n",
       "    .dataframe thead th {\n",
       "        text-align: right;\n",
       "    }\n",
       "</style>\n",
       "<table border=\"1\" class=\"dataframe\">\n",
       "  <thead>\n",
       "    <tr style=\"text-align: right;\">\n",
       "      <th></th>\n",
       "      <th>Diets</th>\n",
       "      <th>avg_weight_repl_per_10_larvae</th>\n",
       "    </tr>\n",
       "  </thead>\n",
       "  <tbody>\n",
       "    <tr>\n",
       "      <th>0</th>\n",
       "      <td>BM</td>\n",
       "      <td>1.670889</td>\n",
       "    </tr>\n",
       "    <tr>\n",
       "      <th>1</th>\n",
       "      <td>GL</td>\n",
       "      <td>1.780888</td>\n",
       "    </tr>\n",
       "    <tr>\n",
       "      <th>2</th>\n",
       "      <td>HBW</td>\n",
       "      <td>2.041934</td>\n",
       "    </tr>\n",
       "    <tr>\n",
       "      <th>3</th>\n",
       "      <td>NBW</td>\n",
       "      <td>1.337168</td>\n",
       "    </tr>\n",
       "    <tr>\n",
       "      <th>4</th>\n",
       "      <td>Normal diet (ND)</td>\n",
       "      <td>0.761554</td>\n",
       "    </tr>\n",
       "    <tr>\n",
       "      <th>5</th>\n",
       "      <td>RM</td>\n",
       "      <td>2.067360</td>\n",
       "    </tr>\n",
       "  </tbody>\n",
       "</table>\n",
       "</div>"
      ],
      "text/plain": [
       "              Diets  avg_weight_repl_per_10_larvae\n",
       "0                BM                       1.670889\n",
       "1                GL                       1.780888\n",
       "2               HBW                       2.041934\n",
       "3               NBW                       1.337168\n",
       "4  Normal diet (ND)                       0.761554\n",
       "5                RM                       2.067360"
      ]
     },
     "execution_count": 67,
     "metadata": {},
     "output_type": "execute_result"
    }
   ],
   "source": [
    "#average weight\n",
    "df_weight = df.groupby('Diets')['avg_weight_repl_per_10_larvae'].mean().reset_index()\n",
    "df_weight"
   ]
  },
  {
   "cell_type": "code",
   "execution_count": 73,
   "id": "2daf7942",
   "metadata": {},
   "outputs": [
    {
     "data": {
      "image/png": "[encoded data removed]",
      "text/plain": [
       "<Figure size 864x360 with 1 Axes>"
      ]
     },
     "metadata": {
      "needs_background": "light"
     },
     "output_type": "display_data"
    }
   ],
   "source": [
    "#bar chart displaying the results\n",
    "fig = plt.figure(figsize=(12,5))\n",
    "bars = plt.bar(df_weight['Diets'], df_weight['avg_weight_repl_per_10_larvae'],color='skyblue')\n",
    "plt.xlabel('Diets')\n",
    "plt.ylabel('average weight per each larvae (grams)')\n",
    "plt.title('average weight of larvae produced per each diet type')\n",
    "\n",
    "# Annotate bars with the percentage values\n",
    "for bar in bars:\n",
    "    height = bar.get_height()\n",
    "    plt.text(\n",
    "        bar.get_x() + bar.get_width() / 2.0,  # x coordinate of the text\n",
    "        height,  # y coordinate of the text\n",
    "        f'{height:.3f}',  # text\n",
    "        ha='center',  # horizontal alignment\n",
    "        va='bottom'  # vertical alignment\n",
    "    )\n",
    "plt.savefig('diets_weight.png')\n",
    "plt.show()"
   ]
  },
  {
   "cell_type": "markdown",
   "id": "cc87d311",
   "metadata": {},
   "source": [
    "### Perform analysis of Variance"
   ]
  },
  {
   "cell_type": "code",
   "execution_count": 69,
   "id": "e051727b",
   "metadata": {},
   "outputs": [
    {
     "name": "stdout",
     "output_type": "stream",
     "text": [
      "F-statistic: 5.324849727747261\n",
      "p-value: 0.00024778426208389075\n"
     ]
    }
   ],
   "source": [
    "groups2 = df.groupby('Diets')['avg_weight_repl_per_10_larvae'].apply(list)\n",
    "\n",
    "# Perform ANOVA\n",
    "f_stat, p_value = stats.f_oneway(*groups2)\n",
    "print('F-statistic:', f_stat)\n",
    "print('p-value:', p_value)"
   ]
  },
  {
   "cell_type": "markdown",
   "id": "fe239968",
   "metadata": {},
   "source": [
    "#### 2. Length"
   ]
  },
  {
   "cell_type": "code",
   "execution_count": 70,
   "id": "57209f32",
   "metadata": {},
   "outputs": [
    {
     "data": {
      "text/html": [
       "<div>\n",
       "<style scoped>\n",
       "    .dataframe tbody tr th:only-of-type {\n",
       "        vertical-align: middle;\n",
       "    }\n",
       "\n",
       "    .dataframe tbody tr th {\n",
       "        vertical-align: top;\n",
       "    }\n",
       "\n",
       "    .dataframe thead th {\n",
       "        text-align: right;\n",
       "    }\n",
       "</style>\n",
       "<table border=\"1\" class=\"dataframe\">\n",
       "  <thead>\n",
       "    <tr style=\"text-align: right;\">\n",
       "      <th></th>\n",
       "      <th>Diets</th>\n",
       "      <th>avg_length_per_replication</th>\n",
       "    </tr>\n",
       "  </thead>\n",
       "  <tbody>\n",
       "    <tr>\n",
       "      <th>0</th>\n",
       "      <td>BM</td>\n",
       "      <td>2.231466</td>\n",
       "    </tr>\n",
       "    <tr>\n",
       "      <th>1</th>\n",
       "      <td>GL</td>\n",
       "      <td>1.979338</td>\n",
       "    </tr>\n",
       "    <tr>\n",
       "      <th>2</th>\n",
       "      <td>HBW</td>\n",
       "      <td>1.398189</td>\n",
       "    </tr>\n",
       "    <tr>\n",
       "      <th>3</th>\n",
       "      <td>NBW</td>\n",
       "      <td>1.572581</td>\n",
       "    </tr>\n",
       "    <tr>\n",
       "      <th>4</th>\n",
       "      <td>Normal diet (ND)</td>\n",
       "      <td>1.114509</td>\n",
       "    </tr>\n",
       "    <tr>\n",
       "      <th>5</th>\n",
       "      <td>RM</td>\n",
       "      <td>2.049836</td>\n",
       "    </tr>\n",
       "  </tbody>\n",
       "</table>\n",
       "</div>"
      ],
      "text/plain": [
       "              Diets  avg_length_per_replication\n",
       "0                BM                    2.231466\n",
       "1                GL                    1.979338\n",
       "2               HBW                    1.398189\n",
       "3               NBW                    1.572581\n",
       "4  Normal diet (ND)                    1.114509\n",
       "5                RM                    2.049836"
      ]
     },
     "execution_count": 70,
     "metadata": {},
     "output_type": "execute_result"
    }
   ],
   "source": [
    "#average length\n",
    "df_length = df.groupby('Diets')['avg_length_per_replication'].mean().reset_index()\n",
    "df_length"
   ]
  },
  {
   "cell_type": "code",
   "execution_count": 74,
   "id": "86d1eb0f",
   "metadata": {},
   "outputs": [
    {
     "data": {
      "image/png": "[encoded data removed]",
      "text/plain": [
       "<Figure size 864x360 with 1 Axes>"
      ]
     },
     "metadata": {
      "needs_background": "light"
     },
     "output_type": "display_data"
    }
   ],
   "source": [
    "#bar chart displaying the results\n",
    "fig = plt.figure(figsize=(12,5))\n",
    "bars = plt.bar(df_length['Diets'], df_length['avg_length_per_replication'],color='skyblue')\n",
    "plt.xlabel('Diets')\n",
    "plt.ylabel('average length per each larvae (cm)')\n",
    "plt.title('average length of larvae produced per each diet type')\n",
    "\n",
    "# Annotate bars with the percentage values\n",
    "for bar in bars:\n",
    "    height = bar.get_height()\n",
    "    plt.text(\n",
    "        bar.get_x() + bar.get_width() / 2.0,  # x coordinate of the text\n",
    "        height,  # y coordinate of the text\n",
    "        f'{height:.3f}',  # text\n",
    "        ha='center',  # horizontal alignment\n",
    "        va='bottom'  # vertical alignment\n",
    "    )\n",
    "plt.savefig('diets_length.png')\n",
    "plt.show()"
   ]
  },
  {
   "cell_type": "markdown",
   "id": "a37a31d5",
   "metadata": {},
   "source": [
    "### Perform Analysis of Variance"
   ]
  },
  {
   "cell_type": "code",
   "execution_count": 75,
   "id": "c543ecd1",
   "metadata": {},
   "outputs": [
    {
     "name": "stdout",
     "output_type": "stream",
     "text": [
      "F-statistic: 2.7294872892183935\n",
      "p-value: 0.024192083868663825\n"
     ]
    }
   ],
   "source": [
    "groups3 = df.groupby('Diets')['avg_length_per_replication'].apply(list)\n",
    "\n",
    "# Perform ANOVA\n",
    "f_stat, p_value = stats.f_oneway(*groups3)\n",
    "print('F-statistic:', f_stat)\n",
    "print('p-value:', p_value)"
   ]
  }
 ],
 "metadata": {
  "kernelspec": {
   "display_name": "Python 3 (ipykernel)",
   "language": "python",
   "name": "python3"
  },
  "language_info": {
   "codemirror_mode": {
    "name": "ipython",
    "version": 3
   },
   "file_extension": ".py",
   "mimetype": "text/x-python",
   "name": "python",
   "nbconvert_exporter": "python",
   "pygments_lexer": "ipython3",
   "version": "3.9.12"
  }
 },
 "nbformat": 4,
 "nbformat_minor": 5
}
